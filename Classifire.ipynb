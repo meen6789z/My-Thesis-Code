{
 "cells": [
  {
   "cell_type": "code",
   "execution_count": 1,
   "metadata": {},
   "outputs": [],
   "source": [
    "# Import Library\n",
    "import numpy as np\n",
    "import pandas as pd\n",
    "import seaborn as sns\n",
    "import matplotlib.pyplot as plt\n",
    "from sklearn.tree import DecisionTreeClassifier\n",
    "from sklearn.model_selection import train_test_split, GridSearchCV, cross_val_score, RepeatedStratifiedKFold\n",
    "from sklearn import metrics\n",
    "from sklearn.metrics import accuracy_score, confusion_matrix, precision_score, recall_score,f1_score, confusion_matrix, ConfusionMatrixDisplay\n",
    "from sklearn.ensemble import RandomForestClassifier\n",
    "from statsmodels.tsa.seasonal import seasonal_decompose\n",
    "%config InlineBackend.figure_format='retina'\n",
    "from sklearn.ensemble import AdaBoostClassifier\n",
    "from sklearn.ensemble import VotingClassifier\n",
    "from sklearn.datasets import make_classification\n",
    "from sklearn.metrics import accuracy_score\n",
    "from sklearn.tree import export_graphviz\n",
    "from io import StringIO\n",
    "from sklearn import preprocessing\n",
    "from IPython.display import Image\n",
    "from xgboost import XGBClassifier\n",
    "from sklearn.ensemble import AdaBoostClassifier, GradientBoostingClassifier\n",
    "from sklearn.metrics import classification_report\n",
    "import statsmodels.api as sm\n",
    "from sklearn.ensemble import RandomForestClassifier, AdaBoostClassifier, GradientBoostingClassifier\n",
    "from xgboost import XGBClassifier\n",
    "from sklearn.preprocessing import StandardScaler\n",
    "from imblearn.over_sampling import SMOTE\n",
    "\n"
   ]
  },
  {
   "cell_type": "code",
   "execution_count": 3,
   "metadata": {},
   "outputs": [],
   "source": [
    "#Import Data\n",
    "data=pd.read_excel(\"C:\\\\Users\\\\Asus\\\\OneDrive\\เดสก์ท็อป\\\\Main folder\\\\My_Project\\\\Kmeans_Data_Povertygap.xlsx\")\n",
    "X = data[[ 'x2', 'x3','x5', 'x6', 'x7',  'x10','x12','x13']]\n",
    "y = data[['y']]\n",
    "X_train, X_test, y_train, y_test = train_test_split(X, y, test_size=0.2, random_state=42)\n",
    "#Imbalance Data\n",
    "smote = SMOTE(sampling_strategy='auto', random_state=42)\n",
    "X_resampled, y_resampled = smote.fit_resample(X_train, y_train)\n",
    "\n",
    "X_train=X_resampled\n",
    "y_train=y_resampled"
   ]
  },
  {
   "cell_type": "code",
   "execution_count": 4,
   "metadata": {},
   "outputs": [],
   "source": [
    "# Parameter For This Study\n",
    "best_params_RF = {'max_depth': 5,'min_samples_leaf': 4,'min_samples_split': 10,\n",
    "                            'n_estimators': 300,'max_features': 'sqrt','bootstrap': False,}\n",
    "best_params_ada= {'n_estimators':100,'learning_rate':0.05}\n",
    "best_params_XG= {'colsample_bytree': 1, 'learning_rate': 0.01, 'max_depth': 3, 'min_samples_leaf': 1, 'n_estimators': 50, 'subsample': 0.7,'min_samples_split':2}\n",
    "best_params_RF= {'max_depth': 5, 'min_samples_leaf': 4, 'min_samples_split': 15, 'n_estimators': 100}\n"
   ]
  },
  {
   "cell_type": "code",
   "execution_count": 7,
   "metadata": {},
   "outputs": [
    {
     "name": "stderr",
     "output_type": "stream",
     "text": [
      "c:\\Users\\Asus\\AppData\\Local\\Programs\\Python\\Python311\\Lib\\site-packages\\sklearn\\base.py:1474: DataConversionWarning: A column-vector y was passed when a 1d array was expected. Please change the shape of y to (n_samples,), for example using ravel().\n",
      "  return fit_method(estimator, *args, **kwargs)\n"
     ]
    },
    {
     "name": "stdout",
     "output_type": "stream",
     "text": [
      "Cross-validated training scores: [0.82971014 0.8115942  0.8        0.79272727 0.77818182 0.80797101\n",
      " 0.78623188 0.81454545 0.74181818 0.80727273 0.80434783 0.79347826\n",
      " 0.78909091 0.81454545 0.81090909]\n",
      "Mean CV_train score: 0.7988282828282828\n",
      "Test score: 0.7352941176470589\n",
      "Accuracy score = 73.53%\n",
      "Precision score = 82.64%\n",
      "Recall score = 73.53\n",
      "F1 score = 76.90%\n"
     ]
    }
   ],
   "source": [
    "#Buiild Model Random Forest\n",
    "RF_model = RandomForestClassifier(**best_params_RF,random_state=42)\n",
    "RF_model.fit(X_train, y_train)\n",
    "\n",
    "y_pred = RF_model.predict(X_test)\n",
    "\n",
    "cv = RepeatedStratifiedKFold(n_splits=5, n_repeats=3, random_state=42)\n",
    "n_scores = cross_val_score(RF_model, X_train, y_train, scoring='accuracy', cv=cv, n_jobs=-1)\n",
    "print(\"Cross-validated training scores:\", n_scores)\n",
    "print(\"Mean CV_train score:\", n_scores.mean())\n",
    "print(\"Test score:\", RF_model.score(X_test, y_test))\n",
    "\n",
    "accuracy = accuracy_score(y_test, y_pred) * 100\n",
    "precision = precision_score(y_test, y_pred, average='weighted') * 100\n",
    "recall = recall_score(y_test, y_pred, average='weighted')*100\n",
    "f1 = f1_score(y_test, y_pred, average='weighted') * 100\n",
    "\n",
    "print(f\"Accuracy score = {accuracy:.2f}%\")\n",
    "print(f\"Precision score = {precision:.2f}%\")\n",
    "print(f\"Recall score = {recall:.2f}\")\n",
    "print(f\"F1 score = {f1:.2f}%\")"
   ]
  },
  {
   "cell_type": "code",
   "execution_count": null,
   "metadata": {},
   "outputs": [],
   "source": [
    "print(classification_report(y_test, y_pred))"
   ]
  },
  {
   "cell_type": "code",
   "execution_count": null,
   "metadata": {},
   "outputs": [],
   "source": [
    "cm = confusion_matrix(y_test, y_pred)\n",
    "\n",
    "disp = ConfusionMatrixDisplay(confusion_matrix=cm).plot(cmap='Blues')"
   ]
  },
  {
   "cell_type": "code",
   "execution_count": null,
   "metadata": {},
   "outputs": [],
   "source": [
    "# GridSearch\n",
    "XG_model = XGBClassifier(**best_params_XG,random_state=42)\n",
    "XG_model.fit(X_train, y_train)\n",
    "\n",
    "# Predict on the test set\n",
    "y_pred = XG_model.predict(X_test)\n",
    "\n",
    "# Evaluate the model\n",
    "cv = RepeatedStratifiedKFold(n_splits=4, n_repeats=3, random_state=42)\n",
    "n_scores = cross_val_score(XG_model, X_train, y_train, scoring='accuracy', cv=cv, n_jobs=-1)\n",
    "print(\"Cross-validated training scores:\", n_scores)\n",
    "print(\"Mean CV_train score: %.4f\" % n_scores.mean())\n",
    "print(\"Test score: %.4f\" % XG_model.score(X_test, y_test))\n",
    "\n",
    "# Calculate and print evaluation metrics\n",
    "accuracy = accuracy_score(y_test, y_pred) * 100\n",
    "precision = precision_score(y_test, y_pred, average='weighted') * 100\n",
    "recall = recall_score(y_test, y_pred, average='weighted') * 100\n",
    "f1 = f1_score(y_test, y_pred, average='weighted') * 100\n",
    "\n",
    "print(f\"Accuracy score = {accuracy:.2f}%\")\n",
    "print(f\"Precision score = {precision:.2f}%\")\n",
    "print(f\"Recall score = {recall:.2f}%\")\n",
    "print(f\"F1 score = {f1:.2f}%\")"
   ]
  },
  {
   "cell_type": "code",
   "execution_count": null,
   "metadata": {},
   "outputs": [],
   "source": [
    "print(classification_report(y_test, y_pred))\n",
    "\n",
    "cm = confusion_matrix(y_test, y_pred)\n",
    "disp = ConfusionMatrixDisplay(confusion_matrix=cm).plot(cmap='Blues')\n"
   ]
  }
 ],
 "metadata": {
  "kernelspec": {
   "display_name": "Python 3",
   "language": "python",
   "name": "python3"
  },
  "language_info": {
   "codemirror_mode": {
    "name": "ipython",
    "version": 3
   },
   "file_extension": ".py",
   "mimetype": "text/x-python",
   "name": "python",
   "nbconvert_exporter": "python",
   "pygments_lexer": "ipython3",
   "version": "3.11.0"
  }
 },
 "nbformat": 4,
 "nbformat_minor": 2
}
